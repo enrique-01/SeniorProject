{
 "cells": [
  {
   "cell_type": "code",
   "execution_count": 1,
   "metadata": {},
   "outputs": [],
   "source": [
    "import cv2\n",
    "from matplotlib import pyplot as plt\n",
    "import torch\n",
    "import open3d as o3d\n",
    "import numpy as np"
   ]
  },
  {
   "cell_type": "code",
   "execution_count": 2,
   "metadata": {},
   "outputs": [
    {
     "name": "stderr",
     "output_type": "stream",
     "text": [
      "Using cache found in C:\\Users\\Enrique/.cache\\torch\\hub\\intel-isl_MiDaS_master\n",
      "Using cache found in C:\\Users\\Enrique/.cache\\torch\\hub\\facebookresearch_WSL-Images_master\n"
     ]
    },
    {
     "name": "stdout",
     "output_type": "stream",
     "text": [
      "Loading weights:  None\n"
     ]
    },
    {
     "name": "stderr",
     "output_type": "stream",
     "text": [
      "Using cache found in C:\\Users\\Enrique/.cache\\torch\\hub\\intel-isl_MiDaS_master\n"
     ]
    }
   ],
   "source": [
    "midas = torch.hub.load(\"intel-isl/MiDaS\", \"MiDaS\")\n",
    "midas_transforms = torch.hub.load(\"intel-isl/MiDaS\", \"transforms\")\n",
    "transform = midas_transforms.default_transform"
   ]
  },
  {
   "cell_type": "code",
   "execution_count": null,
   "metadata": {},
   "outputs": [],
   "source": [
    "cap= cv2.VideoCapture('C:/Users/Enrique/Desktop/SeniorProject/Videos/IMG_9265.mp4')\n",
    "i=0\n",
    "while(cap.isOpened()):\n",
    "    ret, frame = cap.read()\n",
    "    if ret == False:\n",
    "        break\n",
    "    cv2.imwrite('frame'+str(i)+'.png',frame)\n",
    "    img = cv2.imread('frame'+str(i)+'.png') \n",
    "    img = cv2.cvtColor(img, cv2.COLOR_BGR2RGB)\n",
    "    i+=1\n",
    " \n",
    "cap.release()\n",
    "cv2.destroyAllWindows()\n",
    "\n",
    "j=0\n",
    "while(j < 720):\n",
    "    img = cv2.imread('frame'+str(j)+'.png') \n",
    "    #img = cv2.cvtColor(img, cv2.COLOR_BGR2RGB)\n",
    "\n",
    "    img1 = cv2.imread('frame'+str(j)+'.png') \n",
    "    #img1 = cv2.cvtColor(img1, cv2.COLOR_BGR2RGB)\n",
    "\n",
    "    input_batch = transform(img)\n",
    "    \n",
    "    with torch.no_grad():\n",
    "        prediction = midas(input_batch)\n",
    "\n",
    "        prediction = torch.nn.functional.interpolate(\n",
    "        prediction.unsqueeze(1),\n",
    "        size=img.shape[:2],\n",
    "        mode=\"bicubic\",\n",
    "        align_corners=False,\n",
    "    ).squeeze()   \n",
    "        \n",
    "    j+=30\n",
    "\n",
    "\n",
    "    output = prediction.cpu().numpy()\n",
    "    \n",
    "    fig = plt.imshow(output)\n",
    "    plt.axis('off')\n",
    "    fig.axes.get_xaxis().set_visible(False)\n",
    "    fig.axes.get_yaxis().set_visible(False)\n",
    "    plt.savefig('frame_depthmap'+str(j)+'.png', bbox_inches='tight', pad_inches = 0)\n",
    "\n",
    "    fig1 = plt.imshow(img1)\n",
    "    plt.axis('off')\n",
    "    fig1.axes.get_xaxis().set_visible(False)\n",
    "    fig1.axes.get_yaxis().set_visible(False)\n",
    "    plt.savefig('frame_rgb'+str(j)+'.png', bbox_inches='tight', pad_inches = 0)\n",
    "\n",
    "#webcam_capture = cv2.VideoCapture(0)\n",
    "#ret,frame = webcam_capture.read()\n",
    "#cv2.imwrite('cam_image.png',frame)\n",
    "#img = cv2.imread(\"cam_image.png\") \n",
    "#img = cv2.cvtColor(img, cv2.COLOR_BGR2RGB)\n",
    "\n",
    "\n",
    "#ret,frame1 = webcam_capture.read()\n",
    "#cv2.imwrite('cam_image.png',frame1)\n",
    "#img1 = cv2.imread(\"cam_image.png\") \n",
    "#img1 = cv2.cvtColor(img, cv2.COLOR_BGR2RGB)\n",
    "\n",
    "#input_batch = transform(img)\n",
    "\n",
    "#with torch.no_grad():\n",
    "#    prediction = midas(input_batch)\n",
    "#\n",
    "#    prediction = torch.nn.functional.interpolate(\n",
    "#        prediction.unsqueeze(1),\n",
    "#        size=img.shape[:2],\n",
    "#        mode=\"bicubic\",\n",
    "#        align_corners=False,\n",
    "#    ).squeeze()\n",
    "    \n",
    "#output = prediction.cpu().numpy()"
   ]
  },
  {
   "cell_type": "code",
   "execution_count": null,
   "metadata": {
    "scrolled": false
   },
   "outputs": [],
   "source": [
    "#m=30\n",
    "#while(m <= 720):\n",
    "color_raw = o3d.io.read_image('C:/Users/Enrique/Desktop/SeniorProject/frame_rgb510.png')\n",
    "depth_raw = o3d.io.read_image('C/Users/Enrique/Desktop/SeniorProject/frame_depthmap510.png')\n",
    "\n",
    "color = o3d.geometry.Image(np.array(np.asarray(color_raw)[:, :, :3]).astype('uint8'))\n",
    "depth = o3d.geometry.Image(np.array(np.asarray(depth_raw)[:, :, :3]).astype('uint8'))\n",
    "\n",
    "rgbd_image = o3d.geometry.RGBDImage.create_from_color_and_depth(color, depth, convert_rgb_to_intensity=False)\n",
    "#open3d.io.write_image('C:/Users/Enrique/Desktop/SeniorProject/frame_rgbd'+str(m)+'.rgbd')\n",
    "    #m+=30\n",
    "\n",
    "    "
   ]
  },
  {
   "cell_type": "code",
   "execution_count": null,
   "metadata": {},
   "outputs": [],
   "source": [
    "pcd = o3d.geometry.PointCloud.create_from_rgbd_image(\n",
    "    rgbd_image,\n",
    "    o3d.camera.PinholeCameraIntrinsic(\n",
    "        o3d.camera.PinholeCameraIntrinsicParameters.PrimeSenseDefault))\n",
    "# Flip it, otherwise the pointcloud will be upside down\n",
    "pcd.transform([[1, 0, 0, 0], [0, -1, 0, 0], [0, 0, -1, 0], [0, 0, 0, 1]])\n",
    "#o3d.visualization.draw_geometries([pcd])\n",
    "\n",
    "\n",
    "#pcd.normals = o3d.utility.Vector3dVector(np.zeros(\n",
    "#    (1, 3))) \n",
    "#pcd.estimate_normals()\n",
    "o3d.visualization.draw_geometries([pcd], point_show_normal=True)"
   ]
  },
  {
   "cell_type": "code",
   "execution_count": null,
   "metadata": {},
   "outputs": [],
   "source": []
  }
 ],
 "metadata": {
  "kernelspec": {
   "display_name": "SeniorProject",
   "language": "python",
   "name": "seniorproject"
  },
  "language_info": {
   "codemirror_mode": {
    "name": "ipython",
    "version": 3
   },
   "file_extension": ".py",
   "mimetype": "text/x-python",
   "name": "python",
   "nbconvert_exporter": "python",
   "pygments_lexer": "ipython3",
   "version": "3.8.8"
  }
 },
 "nbformat": 4,
 "nbformat_minor": 4
}
